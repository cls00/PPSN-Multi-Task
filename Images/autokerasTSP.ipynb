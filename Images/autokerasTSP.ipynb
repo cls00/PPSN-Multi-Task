{
 "cells": [
  {
   "cell_type": "code",
   "execution_count": 1,
   "id": "7b747e54",
   "metadata": {},
   "outputs": [],
   "source": [
    "import os\n",
    "import random\n",
    "import numpy as np\n",
    "import pandas as pd\n",
    "from PIL import Image\n",
    "import autokeras as ak\n",
    "import tensorflow as tf\n",
    "from numpy import asarray\n",
    "from tensorflow import keras\n",
    "import matplotlib.pyplot as plt\n",
    "from matplotlib.pyplot import figure\n",
    "from tensorflow.keras.callbacks import CSVLogger\n",
    "from sklearn.datasets import load_files\n",
    "from sklearn.metrics import classification_report\n",
    "from sklearn.model_selection import StratifiedKFold\n",
    "from sklearn.model_selection import KFold"
   ]
  },
  {
   "cell_type": "code",
   "execution_count": 7,
   "id": "417d4bbb",
   "metadata": {},
   "outputs": [
    {
     "data": {
      "image/png": "[encoded data removed]",
      "text/plain": [
       "<Figure size 432x288 with 1 Axes>"
      ]
     },
     "metadata": {
      "needs_background": "light"
     },
     "output_type": "display_data"
    }
   ],
   "source": [
    "#create images array\n",
    "directory = \"imagesselectedset\"\n",
    "images = []\n",
    "for filename in os.listdir(directory):\n",
    "        \n",
    "    instance = os.path.join(directory, filename)\n",
    "    if instance.endswith('.jpg'):\n",
    "        #im = Image.open(instance)\n",
    "        im = Image.open(instance)\n",
    "        im1 = im.convert('L')\n",
    "        pix = im.load()\n",
    "        width, height = im.size\n",
    "        pixel_values = list(im.getdata())\n",
    "        imgplot = plt.imshow(im1, cmap='Greys_r')\n",
    "        #print(\"num pixels is %s\" %(len(pixel_values)))\n",
    "        #print(\"width and height is %s\"%width, height)\n",
    "        \n",
    "        data = asarray(im1)\n",
    "        images.append(data)\n",
    "        # summarize shape\n",
    "images2 = np.asarray(images)\n",
    "images2 = images2.reshape((images2.shape[0], 64, 64))\n"
   ]
  },
  {
   "cell_type": "code",
   "execution_count": null,
   "id": "04f75554",
   "metadata": {},
   "outputs": [],
   "source": [
    "#read the labels\n",
    "npdf = pd.read_csv('metadata/selectedset-TSP.csv')\n",
    "print(npdf['newLabel'].value_counts())\n",
    "source = npdf.newLabel"
   ]
  },
  {
   "cell_type": "code",
   "execution_count": null,
   "id": "60cbc068",
   "metadata": {},
   "outputs": [],
   "source": [
    "X = images2.astype('float32')\n",
    "X /= 255\n",
    "print('X_train shape:', X.shape)\n",
    "y = source"
   ]
  },
  {
   "cell_type": "code",
   "execution_count": 5,
   "id": "3276843f",
   "metadata": {},
   "outputs": [],
   "source": [
    "tf_callbacks = [\n",
    "    tf.keras.callbacks.CSVLogger(\"TSPimagesTraining.csv\", separator=\",\", append=False),\n",
    "    tf.keras.callbacks.TensorBoard(log_dir='./logs',profile_batch = 100000000),\n",
    "]"
   ]
  },
  {
   "cell_type": "markdown",
   "id": "97b2780c",
   "metadata": {},
   "source": [
    "# Autkeras Model"
   ]
  },
  {
   "cell_type": "code",
   "execution_count": null,
   "id": "114a2c13",
   "metadata": {},
   "outputs": [],
   "source": [
    "# test Model\n",
    "clf = ak.ImageClassifier(overwrite=True, max_trials=1)\n",
    "# Supervised training of the model\n",
    "clf.fit(X, y, epochs=1, callbacks=tf_callbacks)"
   ]
  },
  {
   "cell_type": "code",
   "execution_count": 7,
   "id": "0e77d5be",
   "metadata": {},
   "outputs": [
    {
     "name": "stdout",
     "output_type": "stream",
     "text": [
      "Model: \"model\"\n",
      "_________________________________________________________________\n",
      "Layer (type)                 Output Shape              Param #   \n",
      "=================================================================\n",
      "input_1 (InputLayer)         [(None, 64, 64)]          0         \n",
      "_________________________________________________________________\n",
      "cast_to_float32 (CastToFloat (None, 64, 64)            0         \n",
      "_________________________________________________________________\n",
      "expand_last_dim (ExpandLastD (None, 64, 64, 1)         0         \n",
      "_________________________________________________________________\n",
      "normalization (Normalization (None, 64, 64, 1)         3         \n",
      "_________________________________________________________________\n",
      "conv2d (Conv2D)              (None, 62, 62, 32)        320       \n",
      "_________________________________________________________________\n",
      "conv2d_1 (Conv2D)            (None, 60, 60, 64)        18496     \n",
      "_________________________________________________________________\n",
      "max_pooling2d (MaxPooling2D) (None, 30, 30, 64)        0         \n",
      "_________________________________________________________________\n",
      "dropout (Dropout)            (None, 30, 30, 64)        0         \n",
      "_________________________________________________________________\n",
      "flatten (Flatten)            (None, 57600)             0         \n",
      "_________________________________________________________________\n",
      "dropout_1 (Dropout)          (None, 57600)             0         \n",
      "_________________________________________________________________\n",
      "dense (Dense)                (None, 1)                 57601     \n",
      "_________________________________________________________________\n",
      "classification_head_1 (Activ (None, 1)                 0         \n",
      "=================================================================\n",
      "Total params: 76,420\n",
      "Trainable params: 76,417\n",
      "Non-trainable params: 3\n",
      "_________________________________________________________________\n"
     ]
    }
   ],
   "source": [
    "model = clf.export_model()\n",
    "model.summary()"
   ]
  },
  {
   "cell_type": "code",
   "execution_count": null,
   "id": "4ba56453",
   "metadata": {},
   "outputs": [],
   "source": [
    "#train the model using 10 folds with 100 epoch per fold\n",
    "from sklearn import metrics\n",
    "from sklearn.metrics import accuracy_score,recall_score,precision_score\n",
    "\n",
    "cv = KFold(n_splits=10, random_state=1, shuffle=True)\n",
    "all_tests = []\n",
    "all_predictions = []\n",
    "\n",
    "for train_index, test_index in cv.split(X, y):\n",
    "  #print(\"TRAIN:\", train_index, \"TEST:\", test_index)\n",
    "    X_train, X_test = X[train_index], X[test_index]\n",
    "    y_train, y_test = y[train_index], y[test_index]\n",
    "    clf = ak.ImageClassifier(overwrite= False, max_trials=1)\n",
    "  # Supervised training of the model\n",
    "    print(\"Start training\")\n",
    "    clf.fit(X_train, y_train, epochs=100, callbacks=tf_callbacks)\n",
    "\n",
    "    print(\"Prendictions on unseen data\")\n",
    "    predicted_y = clf.predict(X_test)\n",
    "    all_tests.append(y_test)\n",
    "    all_predictions.append(predicted_y)\n",
    "    #print(predicted_y)\n",
    "    report = classification_report(y_test, predicted_y)\n",
    "    print(report)"
   ]
  },
  {
   "cell_type": "code",
   "execution_count": 9,
   "id": "8614b718",
   "metadata": {},
   "outputs": [
    {
     "name": "stdout",
     "output_type": "stream",
     "text": [
      "500\n"
     ]
    }
   ],
   "source": [
    "predictions = []\n",
    "for sublist in all_predictions:\n",
    "    for item in sublist:\n",
    "        predictions.append(int(item))\n",
    "\n",
    "tests = []\n",
    "for sublist in all_tests:\n",
    "    for item in sublist:\n",
    "        tests.append(item)"
   ]
  },
  {
   "cell_type": "code",
   "execution_count": 13,
   "id": "31cfa6d1",
   "metadata": {},
   "outputs": [
    {
     "name": "stdout",
     "output_type": "stream",
     "text": [
      "              precision    recall  f1-score   support\n",
      "\n",
      "           0       0.49      0.50      0.50      2424\n",
      "           1       0.52      0.50      0.51      2576\n",
      "\n",
      "    accuracy                           0.50      5000\n",
      "   macro avg       0.50      0.50      0.50      5000\n",
      "weighted avg       0.50      0.50      0.50      5000\n",
      "\n"
     ]
    }
   ],
   "source": [
    "report = classification_report(predictions, tests)\n",
    "print(report)"
   ]
  },
  {
   "cell_type": "code",
   "execution_count": 14,
   "id": "566113df",
   "metadata": {},
   "outputs": [
    {
     "name": "stdout",
     "output_type": "stream",
     "text": [
      "Accuracy: 0.5032\n",
      "Precision: 0.518\n",
      "Recall: 0.503\n",
      "F1-score: 0.511\n"
     ]
    }
   ],
   "source": [
    "from sklearn import metrics\n",
    "from sklearn.metrics import accuracy_score,recall_score,precision_score\n",
    "from sklearn.metrics import f1_score\n",
    "\n",
    "print(\"Accuracy:\",metrics.accuracy_score(predictions, tests))\n",
    "precision = precision_score(predictions, tests)\n",
    "recall = recall_score(predictions, tests)\n",
    "f1_score = f1_score(predictions, tests)\n",
    "print('Precision: %.3f' % precision)\n",
    "print('Recall: %.3f' % recall)\n",
    "print('F1-score: %.3f' % f1_score)"
   ]
  },
  {
   "cell_type": "code",
   "execution_count": null,
   "id": "df881148",
   "metadata": {},
   "outputs": [],
   "source": []
  }
 ],
 "metadata": {
  "kernelspec": {
   "display_name": "Python 3",
   "language": "python",
   "name": "python3"
  },
  "language_info": {
   "codemirror_mode": {
    "name": "ipython",
    "version": 3
   },
   "file_extension": ".py",
   "mimetype": "text/x-python",
   "name": "python",
   "nbconvert_exporter": "python",
   "pygments_lexer": "ipython3",
   "version": "3.8.8"
  }
 },
 "nbformat": 4,
 "nbformat_minor": 5
}
