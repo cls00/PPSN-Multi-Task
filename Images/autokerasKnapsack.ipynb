{
 "cells": [
  {
   "cell_type": "code",
   "execution_count": 1,
   "id": "7b747e54",
   "metadata": {},
   "outputs": [],
   "source": [
    "import os\n",
    "import io\n",
    "import random\n",
    "import numpy as np\n",
    "import pandas as pd\n",
    "from PIL import Image\n",
    "import autokeras as ak\n",
    "import tensorflow as tf\n",
    "from numpy import asarray\n",
    "from tensorflow import keras\n",
    "import matplotlib.pyplot as plt\n",
    "from matplotlib.pyplot import figure\n",
    "from tensorflow.keras.callbacks import CSVLogger\n",
    "from sklearn.datasets import load_files\n",
    "from sklearn.metrics import classification_report\n",
    "from sklearn.model_selection import StratifiedKFold\n",
    "from sklearn.model_selection import KFold"
   ]
  },
  {
   "cell_type": "markdown",
   "id": "9e0aa8ac",
   "metadata": {},
   "source": [
    "# Create images array from knapsack images"
   ]
  },
  {
   "cell_type": "code",
   "execution_count": null,
   "id": "417d4bbb",
   "metadata": {},
   "outputs": [],
   "source": [
    "#create images array\n",
    "directory = \"All-6Set/knapsack-images\"\n",
    "images = []\n",
    "labels = []\n",
    "import os\n",
    "rootdir = 'All-6Set/knapsack-images'\n",
    "\n",
    "for subdir, dirs, files in os.walk(rootdir):\n",
    "    for file in files:        \n",
    "        instance = os.path.join(subdir, file)\n",
    "        if instance.endswith('.jpg'):\n",
    "            im = Image.open(instance).convert('L')\n",
    "            pix = im.load()\n",
    "            width, height = im.size\n",
    "            pixel_values = list(im.getdata())\n",
    "          \n",
    "            imgplot = plt.imshow(im,cmap='Greys_r')\n",
    "            data = asarray(im)\n",
    "            images.append(data)\n",
    "          # summarize shape\n",
    "images2 = np.asarray(images)\n",
    "images2 = images2.reshape((images2.shape[0], 32, 32))\n",
    "print(images2.shape)"
   ]
  },
  {
   "cell_type": "code",
   "execution_count": null,
   "id": "04f75554",
   "metadata": {},
   "outputs": [],
   "source": [
    "#read the labels\n",
    "npdf = pd.read_csv('All-6Set/leenaknapsack.csv')\n",
    "source = npdf.Label\n",
    "print(source.value_counts())"
   ]
  },
  {
   "cell_type": "code",
   "execution_count": 5,
   "id": "60cbc068",
   "metadata": {},
   "outputs": [
    {
     "name": "stdout",
     "output_type": "stream",
     "text": [
      "X_train shape: (5000, 32, 32)\n"
     ]
    }
   ],
   "source": [
    "#normalise to values between 0 and 1\n",
    "X = images2.astype('float32')\n",
    "X /= 255\n",
    "print('X_train shape:', X.shape)\n",
    "y = source"
   ]
  },
  {
   "cell_type": "code",
   "execution_count": 6,
   "id": "3276843f",
   "metadata": {},
   "outputs": [],
   "source": [
    "tf_callbacks = [\n",
    "    tf.keras.callbacks.CSVLogger(\"TSPimagesTraining.csv\", separator=\",\", append=False),\n",
    "    tf.keras.callbacks.TensorBoard(log_dir='./logs',profile_batch = 100000000),\n",
    "]"
   ]
  },
  {
   "cell_type": "markdown",
   "id": "97b2780c",
   "metadata": {},
   "source": [
    "# Autkeras Model"
   ]
  },
  {
   "cell_type": "code",
   "execution_count": null,
   "id": "114a2c13",
   "metadata": {},
   "outputs": [],
   "source": [
    "# test Autokeras Model with few epochs\n",
    "clf = ak.ImageClassifier(overwrite=False, max_trials=1)\n",
    "# Supervised training of the model\n",
    "clf.fit(X, y, epochs=3, callbacks=tf_callbacks)"
   ]
  },
  {
   "cell_type": "code",
   "execution_count": 9,
   "id": "1b6bd331",
   "metadata": {
    "scrolled": true
   },
   "outputs": [
    {
     "name": "stdout",
     "output_type": "stream",
     "text": [
      "Model: \"model\"\n",
      "_________________________________________________________________\n",
      "Layer (type)                 Output Shape              Param #   \n",
      "=================================================================\n",
      "input_1 (InputLayer)         [(None, 32, 32)]          0         \n",
      "_________________________________________________________________\n",
      "cast_to_float32 (CastToFloat (None, 32, 32)            0         \n",
      "_________________________________________________________________\n",
      "expand_last_dim (ExpandLastD (None, 32, 32, 1)         0         \n",
      "_________________________________________________________________\n",
      "normalization (Normalization (None, 32, 32, 1)         3         \n",
      "_________________________________________________________________\n",
      "conv2d (Conv2D)              (None, 30, 30, 32)        320       \n",
      "_________________________________________________________________\n",
      "conv2d_1 (Conv2D)            (None, 28, 28, 64)        18496     \n",
      "_________________________________________________________________\n",
      "max_pooling2d (MaxPooling2D) (None, 14, 14, 64)        0         \n",
      "_________________________________________________________________\n",
      "dropout (Dropout)            (None, 14, 14, 64)        0         \n",
      "_________________________________________________________________\n",
      "flatten (Flatten)            (None, 12544)             0         \n",
      "_________________________________________________________________\n",
      "dropout_1 (Dropout)          (None, 12544)             0         \n",
      "_________________________________________________________________\n",
      "dense (Dense)                (None, 1)                 12545     \n",
      "_________________________________________________________________\n",
      "classification_head_1 (Activ (None, 1)                 0         \n",
      "=================================================================\n",
      "Total params: 31,364\n",
      "Trainable params: 31,361\n",
      "Non-trainable params: 3\n",
      "_________________________________________________________________\n"
     ]
    }
   ],
   "source": [
    "model = clf.export_model()\n",
    "model.summary()"
   ]
  },
  {
   "cell_type": "code",
   "execution_count": null,
   "id": "4b7fa6fb",
   "metadata": {
    "scrolled": false
   },
   "outputs": [],
   "source": [
    "#train the model using 10 folds with 100 epoch per fold\n",
    "from sklearn import metrics\n",
    "from sklearn.metrics import accuracy_score,recall_score,precision_score\n",
    "\n",
    "cv = KFold(n_splits=10, random_state=1, shuffle=True)\n",
    "all_tests = []\n",
    "all_predictions = []\n",
    "\n",
    "for train_index, test_index in cv.split(X, y):\n",
    "  #print(\"TRAIN:\", train_index, \"TEST:\", test_index)\n",
    "    X_train, X_test = X[train_index], X[test_index]\n",
    "    y_train, y_test = y[train_index], y[test_index]\n",
    "    clf = ak.ImageClassifier(overwrite= False, max_trials=1)\n",
    "  # Supervised training of the model\n",
    "    print(\"Start training\")\n",
    "    clf.fit(X_train, y_train, epochs=100, callbacks=tf_callbacks)\n",
    "\n",
    "    print(\"Prendictions on unseen data\")\n",
    "    predicted_y = clf.predict(X_test)\n",
    "    all_tests.append(y_test)\n",
    "    all_predictions.append(predicted_y)\n",
    "    \n",
    "    report = classification_report(y_test, predicted_y)\n",
    "    print(report)"
   ]
  },
  {
   "cell_type": "code",
   "execution_count": 8,
   "id": "8bd763bf",
   "metadata": {},
   "outputs": [
    {
     "name": "stdout",
     "output_type": "stream",
     "text": [
      "500\n"
     ]
    }
   ],
   "source": [
    "print(len(all_predictions[9]))\n",
    "predictions = []\n",
    "for sublist in all_predictions:\n",
    "    for item in sublist:\n",
    "        predictions.append(int(item))\n",
    "\n",
    "tests = []\n",
    "for sublist in all_tests:\n",
    "    for item in sublist:\n",
    "        tests.append(item)"
   ]
  },
  {
   "cell_type": "code",
   "execution_count": null,
   "id": "62638b2a",
   "metadata": {
    "scrolled": true
   },
   "outputs": [],
   "source": [
    "report = classification_report(tests, predictions)\n",
    "print(report)"
   ]
  },
  {
   "cell_type": "code",
   "execution_count": 10,
   "id": "566113df",
   "metadata": {},
   "outputs": [
    {
     "name": "stdout",
     "output_type": "stream",
     "text": [
      "Accuracy: 0.8784\n",
      "Precision: 0.960\n",
      "Recall: 0.825\n",
      "F1-score: 0.888\n"
     ]
    }
   ],
   "source": [
    "from sklearn import metrics\n",
    "from sklearn.metrics import accuracy_score,recall_score,precision_score\n",
    "from sklearn.metrics import f1_score\n",
    "\n",
    "print(\"Accuracy:\",metrics.accuracy_score(predictions, tests))\n",
    "precision = precision_score(predictions, tests)\n",
    "recall = recall_score(predictions, tests)\n",
    "f1_score = f1_score(predictions, tests)\n",
    "print('Precision: %.3f' % precision)\n",
    "print('Recall: %.3f' % recall)\n",
    "print('F1-score: %.3f' % f1_score)"
   ]
  },
  {
   "cell_type": "code",
   "execution_count": null,
   "id": "3643dedf",
   "metadata": {},
   "outputs": [],
   "source": []
  }
 ],
 "metadata": {
  "kernelspec": {
   "display_name": "Python 3",
   "language": "python",
   "name": "python3"
  },
  "language_info": {
   "codemirror_mode": {
    "name": "ipython",
    "version": 3
   },
   "file_extension": ".py",
   "mimetype": "text/x-python",
   "name": "python",
   "nbconvert_exporter": "python",
   "pygments_lexer": "ipython3",
   "version": "3.8.8"
  }
 },
 "nbformat": 4,
 "nbformat_minor": 5
}
